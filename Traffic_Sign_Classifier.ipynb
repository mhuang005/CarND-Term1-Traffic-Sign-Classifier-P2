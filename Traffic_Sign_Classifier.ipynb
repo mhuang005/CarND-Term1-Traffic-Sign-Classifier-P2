{
 "cells": [
  {
   "cell_type": "markdown",
   "metadata": {},
   "source": [
    "# Self-Driving Car Engineer Nanodegree\n",
    "\n",
    "## Deep Learning\n",
    "\n",
    "## Project: Build a Traffic Sign Recognition Classifier\n",
    "\n",
    "In this notebook, a template is provided for you to implement your functionality in stages, which is required to successfully complete this project. If additional code is required that cannot be included in the notebook, be sure that the Python code is successfully imported and included in your submission if necessary. \n",
    "\n",
    "> **Note**: Once you have completed all of the code implementations, you need to finalize your work by exporting the iPython Notebook as an HTML document. Before exporting the notebook to html, all of the code cells need to have been run so that reviewers can see the final implementation and output. You can then export the notebook by using the menu above and navigating to  \\n\",\n",
    "    \"**File -> Download as -> HTML (.html)**. Include the finished document along with this notebook as your submission. \n",
    "\n",
    "In addition to implementing code, there is a writeup to complete. The writeup should be completed in a separate file, which can be either a markdown file or a pdf document. There is a [write up template](https://github.com/udacity/CarND-Traffic-Sign-Classifier-Project/blob/master/writeup_template.md) that can be used to guide the writing process. Completing the code template and writeup template will cover all of the [rubric points](https://review.udacity.com/#!/rubrics/481/view) for this project.\n",
    "\n",
    "The [rubric](https://review.udacity.com/#!/rubrics/481/view) contains \"Stand Out Suggestions\" for enhancing the project beyond the minimum requirements. The stand out suggestions are optional. If you decide to pursue the \"stand out suggestions\", you can include the code in this Ipython notebook and also discuss the results in the writeup file.\n",
    "\n",
    "\n",
    ">**Note:** Code and Markdown cells can be executed using the **Shift + Enter** keyboard shortcut. In addition, Markdown cells can be edited by typically double-clicking the cell to enter edit mode."
   ]
  },
  {
   "cell_type": "markdown",
   "metadata": {},
   "source": [
    "---\n",
    "## Step 0: Load The Data"
   ]
  },
  {
   "cell_type": "code",
   "execution_count": null,
   "metadata": {},
   "outputs": [],
   "source": [
    "# Load pickled data\n",
    "import pickle\n",
    "\n",
    "training_file = 'traffic_signs_data/train.p'\n",
    "validation_file= 'traffic_signs_data/valid.p'\n",
    "testing_file = 'traffic_signs_data/test.p'\n",
    "\n",
    "with open(training_file, mode='rb') as f:\n",
    "    train = pickle.load(f)\n",
    "with open(validation_file, mode='rb') as f:\n",
    "    valid = pickle.load(f)\n",
    "with open(testing_file, mode='rb') as f:\n",
    "    test = pickle.load(f)\n",
    "    \n",
    "X_train, y_train = train['features'], train['labels']\n",
    "X_valid, y_valid = valid['features'], valid['labels']\n",
    "X_test, y_test = test['features'], test['labels']"
   ]
  },
  {
   "cell_type": "markdown",
   "metadata": {},
   "source": [
    "---\n",
    "\n",
    "## Step 1: Dataset Summary & Exploration\n",
    "\n",
    "The pickled data is a dictionary with 4 key/value pairs:\n",
    "\n",
    "- `'features'` is a 4D array containing raw pixel data of the traffic sign images, (num examples, width, height, channels).\n",
    "- `'labels'` is a 1D array containing the label/class id of the traffic sign. The file `signnames.csv` contains id -> name mappings for each id.\n",
    "- `'sizes'` is a list containing tuples, (width, height) representing the original width and height the image.\n",
    "- `'coords'` is a list containing tuples, (x1, y1, x2, y2) representing coordinates of a bounding box around the sign in the image. **THESE COORDINATES ASSUME THE ORIGINAL IMAGE. THE PICKLED DATA CONTAINS RESIZED VERSIONS (32 by 32) OF THESE IMAGES**\n",
    "\n",
    "Complete the basic data summary below. Use python, numpy and/or pandas methods to calculate the data summary rather than hard coding the results. For example, the [pandas shape method](http://pandas.pydata.org/pandas-docs/stable/generated/pandas.DataFrame.shape.html) might be useful for calculating some of the summary results. "
   ]
  },
  {
   "cell_type": "markdown",
   "metadata": {},
   "source": [
    "### Provide a Basic Summary of the Data Set Using Python, Numpy and/or Pandas"
   ]
  },
  {
   "cell_type": "code",
   "execution_count": null,
   "metadata": {},
   "outputs": [],
   "source": [
    "import numpy as np\n",
    "import pandas as pd\n",
    "\n",
    "\n",
    "n_train = len(X_train)\n",
    "n_validation = len(X_valid)\n",
    "n_test = len(X_test)\n",
    "image_shape = np.array(X_train[0]).shape\n",
    "df = pd.read_csv('signnames.csv')\n",
    "n_classes = df['ClassId'].count()\n",
    "\n",
    "print(\"Number of training examples =\", n_train)\n",
    "print(\"Number of testing examples =\", n_test)\n",
    "print(\"Image data shape =\", image_shape)\n",
    "print(\"Number of classes =\", n_classes)"
   ]
  },
  {
   "cell_type": "markdown",
   "metadata": {},
   "source": [
    "### Include an exploratory visualization of the dataset"
   ]
  },
  {
   "cell_type": "markdown",
   "metadata": {},
   "source": [
    "Visualize the German Traffic Signs Dataset using the pickled file(s). This is open ended, suggestions include: plotting traffic sign images, plotting the count of each sign, etc. \n",
    "\n",
    "The [Matplotlib](http://matplotlib.org/) [examples](http://matplotlib.org/examples/index.html) and [gallery](http://matplotlib.org/gallery.html) pages are a great resource for doing visualizations in Python.\n",
    "\n",
    "**NOTE:** It's recommended you start with something simple first. If you wish to do more, come back to it after you've completed the rest of the sections. It can be interesting to look at the distribution of classes in the training, validation and test set. Is the distribution the same? Are there more examples of some classes than others?"
   ]
  },
  {
   "cell_type": "markdown",
   "metadata": {},
   "source": [
    "#### Answer"
   ]
  },
  {
   "cell_type": "markdown",
   "metadata": {},
   "source": [
    "As shown below, the distributaions of classess in the training, validation and test sets seem similar.\n",
    "Apparently, some classes have more examples than others in any of the three sets."
   ]
  },
  {
   "cell_type": "code",
   "execution_count": null,
   "metadata": {},
   "outputs": [],
   "source": [
    "import matplotlib.pyplot as plt\n",
    "%matplotlib inline\n",
    "\n",
    "\n",
    "print('Randomly choose 5 images from the training set: \\n')\n",
    "indices = np.random.randint(0, n_train, size=5)\n",
    "fig, axs = plt.subplots(1,len(indices), figsize=(36, 36))\n",
    "for i in range(len(indices)):\n",
    "    plt.subplot(1, len(indices), i+1)\n",
    "    plt.imshow(X_train[indices[i]])\n",
    "    _ = plt.title(df.loc[y_train[indices[i]]].SignName, fontdict={'fontsize': 20})\n",
    "    _ = plt.axis('off')\n"
   ]
  },
  {
   "cell_type": "code",
   "execution_count": null,
   "metadata": {},
   "outputs": [],
   "source": [
    "hist, bin_edages = np.histogram(y_train, bins=n_classes)\n",
    "plt.bar(np.arange(n_classes), hist, align='center', width=0.8)\n",
    "plt.xticks(np.arange(n_classes, step=5))\n",
    "plt.title('Distribution of classes in the training set')\n",
    "plt.show()"
   ]
  },
  {
   "cell_type": "code",
   "execution_count": null,
   "metadata": {},
   "outputs": [],
   "source": [
    "hist, bin_edages = np.histogram(y_valid, bins=n_classes)\n",
    "plt.bar(np.arange(n_classes), hist, align='center', width=0.8)\n",
    "plt.xticks(np.arange(n_classes, step=5))\n",
    "plt.title('Distribution of classes in the validation set')\n",
    "plt.show()"
   ]
  },
  {
   "cell_type": "code",
   "execution_count": null,
   "metadata": {},
   "outputs": [],
   "source": [
    "hist, bin_edages = np.histogram(y_test, bins=n_classes)\n",
    "plt.bar(np.arange(n_classes), hist, align='center', width=0.8)\n",
    "plt.xticks(np.arange(n_classes, step=5))\n",
    "plt.title('Distribution of classes in the test set')\n",
    "plt.show()"
   ]
  },
  {
   "cell_type": "markdown",
   "metadata": {},
   "source": [
    "----\n",
    "\n",
    "## Step 2: Design and Test a Model Architecture\n",
    "\n",
    "Design and implement a deep learning model that learns to recognize traffic signs. Train and test your model on the [German Traffic Sign Dataset](http://benchmark.ini.rub.de/?section=gtsrb&subsection=dataset).\n",
    "\n",
    "The LeNet-5 implementation shown in the [classroom](https://classroom.udacity.com/nanodegrees/nd013/parts/fbf77062-5703-404e-b60c-95b78b2f3f9e/modules/6df7ae49-c61c-4bb2-a23e-6527e69209ec/lessons/601ae704-1035-4287-8b11-e2c2716217ad/concepts/d4aca031-508f-4e0b-b493-e7b706120f81) at the end of the CNN lesson is a solid starting point. You'll have to change the number of classes and possibly the preprocessing, but aside from that it's plug and play! \n",
    "\n",
    "With the LeNet-5 solution from the lecture, you should expect a validation set accuracy of about 0.89. To meet specifications, the validation set accuracy will need to be at least 0.93. It is possible to get an even higher accuracy, but 0.93 is the minimum for a successful project submission. \n",
    "\n",
    "There are various aspects to consider when thinking about this problem:\n",
    "\n",
    "- Neural network architecture (is the network over or underfitting?)\n",
    "- Play around preprocessing techniques (normalization, rgb to grayscale, etc)\n",
    "- Number of examples per label (some have more than others).\n",
    "- Generate fake data.\n",
    "\n",
    "Here is an example of a [published baseline model on this problem](http://yann.lecun.com/exdb/publis/pdf/sermanet-ijcnn-11.pdf). It's not required to be familiar with the approach used in the paper but, it's good practice to try to read papers like these."
   ]
  },
  {
   "cell_type": "markdown",
   "metadata": {},
   "source": [
    "### Pre-process the Data Set (normalization, grayscale, etc.)"
   ]
  },
  {
   "cell_type": "markdown",
   "metadata": {},
   "source": [
    "Minimally, the image data should be normalized so that the data has mean zero and equal variance. For image data, `(pixel - 128)/ 128` is a quick way to approximately normalize the data and can be used in this project. \n",
    "\n",
    "Other pre-processing steps are optional. You can try different techniques to see if it improves performance. \n",
    "\n",
    "Use the code cell (or multiple code cells, if necessary) to implement the first step of your project."
   ]
  },
  {
   "cell_type": "code",
   "execution_count": null,
   "metadata": {},
   "outputs": [],
   "source": [
    "### Preprocess the data here. It is required to normalize the data. Other preprocessing steps could include \n",
    "### converting to grayscale, etc.\n",
    "\n",
    "def normalization(x):\n",
    "    return (x - 128.) / 128.;\n",
    "\n",
    "X_train = normalization(np.array(X_train))\n",
    "X_valid = normalization(np.array(X_valid))\n",
    "X_test = normalization(np.array(X_test))\n",
    "\n",
    "print(\"Check the training samples ...\")\n",
    "X_train[:2, :2, :2, :3]"
   ]
  },
  {
   "cell_type": "markdown",
   "metadata": {},
   "source": [
    "### Model Architecture"
   ]
  },
  {
   "cell_type": "code",
   "execution_count": null,
   "metadata": {},
   "outputs": [],
   "source": [
    "import tensorflow as tf\n",
    "from tensorflow.contrib.layers import flatten\n",
    "\n",
    "def conv_relu_layer(input, filter_shape, channels_in, channels_out, strides=[1,1,1,1], padding='VALID', name='conv'):\n",
    "    sigma = np.sqrt(2./(filter_shape[0]*filter_shape[1]*channels_in))\n",
    "    with tf.name_scope(name):\n",
    "        W = tf.Variable(tf.truncated_normal((*filter_shape, channels_in, channels_out), stddev=sigma))\n",
    "        b = tf.Variable(tf.zeros(channels_out))\n",
    "        conv = tf.nn.conv2d(input, W, strides=strides, padding=padding) + b\n",
    "        return tf.nn.relu(conv)            \n",
    "\n",
    "    \n",
    "def max_pooling_layer(input, ksize=[1,2,2,1], strides=[1,2,2,1], padding='VALID'):\n",
    "    return tf.nn.max_pool(input, ksize=ksize, strides=strides, padding=padding) \n",
    "        \n",
    "    \n",
    "def dropout_layer(input, keep_prob):\n",
    "    return tf.nn.dropout(input, keep_prob)\n",
    "\n",
    "\n",
    "def fc_relu_layer(input, channels_in, channels_out, name='fc_relu'):  \n",
    "    sigma = np.sqrt(2./channels_in) # He's initialization \n",
    "    with tf.name_scope(name):\n",
    "        W = tf.Variable(tf.truncated_normal((channels_in, channels_out), stddev=sigma))\n",
    "        b = tf.Variable(tf.zeros(channels_out))\n",
    "        return tf.nn.relu(tf.matmul(input, W) + b)            \n",
    "        \n",
    "        \n",
    "def fc_layer(input, channels_in, channels_out, name='fc'):       \n",
    "    sigma = np.sqrt(2./(channels_in+channels_out))  # Xavier's initialization \n",
    "    with tf.name_scope(name):\n",
    "        W = tf.Variable(tf.truncated_normal((channels_in, channels_out), stddev=sigma))\n",
    "        b = tf.Variable(tf.zeros(channels_out))\n",
    "        return tf.matmul(input, W) + b    \n",
    "                    \n",
    "\n",
    "def MyNet(x, keep_drop):\n",
    "    # Convolutional. Input: (32,32,3). Ouput: (30,30,16)\n",
    "    conv1 = conv_relu_layer(x, (5,5), 3, 16, name='conv1')\n",
    "    \n",
    "    # Convolutional. Input: (28,28,16). Ouput: (28,28,16)\n",
    "    conv2 = conv_relu_layer(conv1, (3,3), 16, 16, padding='SAME', name='conv2')\n",
    "                    \n",
    "    # Pooling. Input: (28,28,16). Output: (14,14,16) \n",
    "    conv2 = max_pooling_layer(conv2)\n",
    "    \n",
    "    # Dropout. \n",
    "    conv2 = dropout_layer(conv2, keep_drop)\n",
    "                    \n",
    "    # Convolutional. Input: (14,14,16) Output: (14,14,32)\n",
    "    conv3 = conv_relu_layer(conv2, (3,3), 16, 32, padding='SAME', name='conv3')\n",
    "    \n",
    "    # Convolutional. Input: (14,14,32) Output: (14,14,32)\n",
    "    conv4 = conv_relu_layer(conv3, (3,3), 32, 32, padding='SAME', name='conv4')\n",
    "    \n",
    "    # Pooling. Input: (14,14,32). Output: (7,7,32)\n",
    "    conv4 = max_pooling_layer(conv4) \n",
    "    \n",
    "    # Dropout. \n",
    "    conv4 = dropout_layer(conv4, keep_drop)\n",
    "\n",
    "    # Flatten. Input: (7,7,32).\n",
    "    flattened = flatten(conv4)\n",
    "                    \n",
    "    # Fully Connected. Input: 7*7*32. Output: 400.\n",
    "    fc1 = fc_relu_layer(flattened, 7*7*32, 400, name='fc_relu_1')  \n",
    "    \n",
    "    # Dropout.\n",
    "    fc1 = dropout_layer(fc1, keep_prob)\n",
    "    \n",
    "    # Fully Connected. Input: 400. Output: 400.\n",
    "    fc2 = fc_relu_layer(fc1, 400, 400, name='fc_relu_2')\n",
    "    \n",
    "    # Dropout.\n",
    "    fc2 = dropout_layer(fc2, keep_prob)\n",
    "    \n",
    "    # Fully Connected. Input: 400. Output: 43.\n",
    "    logits = fc_layer(fc2, 400, 43, 'logits')\n",
    "                    \n",
    "    return logits\n"
   ]
  },
  {
   "cell_type": "markdown",
   "metadata": {},
   "source": [
    "### Tensorflow Tensors"
   ]
  },
  {
   "cell_type": "code",
   "execution_count": null,
   "metadata": {},
   "outputs": [],
   "source": [
    "x = tf.placeholder(tf.float32, (None, 32, 32, 3))\n",
    "y = tf.placeholder(tf.int32, (None))\n",
    "keep_prob = tf.placeholder(tf.float32)\n",
    "one_hot_y = tf.one_hot(y, 43)"
   ]
  },
  {
   "cell_type": "markdown",
   "metadata": {},
   "source": [
    "### Training Pipeline"
   ]
  },
  {
   "cell_type": "code",
   "execution_count": null,
   "metadata": {},
   "outputs": [],
   "source": [
    "rate = 0.001\n",
    "\n",
    "logits = MyNet(x, keep_prob)\n",
    "cross_entropy = tf.nn.softmax_cross_entropy_with_logits(labels=one_hot_y, logits=logits)\n",
    "loss_operation = tf.reduce_mean(cross_entropy)\n",
    "optimizer = tf.train.AdamOptimizer(learning_rate = rate)\n",
    "training_operation = optimizer.minimize(loss_operation)\n"
   ]
  },
  {
   "cell_type": "markdown",
   "metadata": {},
   "source": [
    "### Model Evaluation"
   ]
  },
  {
   "cell_type": "code",
   "execution_count": null,
   "metadata": {},
   "outputs": [],
   "source": [
    "correct_prediction = tf.equal(tf.argmax(logits, 1), tf.argmax(one_hot_y, 1))\n",
    "accuracy_operation = tf.reduce_mean(tf.cast(correct_prediction, tf.float32))\n",
    "saver = tf.train.Saver()\n",
    "\n",
    "def evaluate(X_data, y_data):\n",
    "    num_examples = len(X_data)\n",
    "    total_accuracy = 0\n",
    "    sess = tf.get_default_session()\n",
    "    for offset in range(0, num_examples, BATCH_SIZE):\n",
    "        batch_x, batch_y = X_data[offset:offset+BATCH_SIZE], y_data[offset:offset+BATCH_SIZE]\n",
    "        accuracy = sess.run(accuracy_operation, feed_dict={x: batch_x, y: batch_y, keep_prob: 1.0})\n",
    "        total_accuracy += (accuracy * len(batch_x))\n",
    "    return total_accuracy / num_examples"
   ]
  },
  {
   "cell_type": "markdown",
   "metadata": {},
   "source": [
    "### Train, Validate and Test the Model"
   ]
  },
  {
   "cell_type": "markdown",
   "metadata": {},
   "source": [
    "A validation set can be used to assess how well the model is performing. A low accuracy on the training and validation\n",
    "sets imply underfitting. A high accuracy on the training set but low accuracy on the validation set implies overfitting."
   ]
  },
  {
   "cell_type": "code",
   "execution_count": null,
   "metadata": {},
   "outputs": [],
   "source": [
    "import os\n",
    "from sklearn.utils import shuffle\n",
    "\n",
    "# Hyperparameters\n",
    "EPOCHS = 40\n",
    "BATCH_SIZE = 64\n",
    "\n",
    "with tf.Session() as sess:\n",
    "    sess.run(tf.global_variables_initializer())\n",
    "    num_examples = len(X_train)\n",
    "    \n",
    "    print(\"Training...\")\n",
    "    for i in range(EPOCHS):\n",
    "        X_train, y_train = shuffle(X_train, y_train)\n",
    "        for offset in range(0, num_examples, BATCH_SIZE):\n",
    "            end = offset + BATCH_SIZE\n",
    "            batch_x, batch_y = X_train[offset:end], y_train[offset:end]\n",
    "            sess.run(training_operation, feed_dict={x: batch_x, y: batch_y, keep_prob: 0.6})\n",
    "            \n",
    "        validation_accuracy = evaluate(X_valid, y_valid)\n",
    "        print(\"EPOCH {} ...\".format(i+1))\n",
    "        print(\"Validation Accuracy = {:.3f}\".format(validation_accuracy))\n",
    "        print()\n",
    "    \n",
    "    if not os.path.exists('./tmp'):\n",
    "        os.mkdir('./tmp')\n",
    "    saver.save(sess, './tmp/cnn_model.ckpt')\n",
    "    print(\"Model saved\")"
   ]
  },
  {
   "cell_type": "code",
   "execution_count": null,
   "metadata": {},
   "outputs": [],
   "source": [
    "import tensorflow as tf\n",
    "\n",
    "with tf.Session() as sess:\n",
    "    saver.restore(sess, tf.train.latest_checkpoint('./tmp'))\n",
    "    train_accuracy = evaluate(X_train, y_train)\n",
    "    print(\"Train Accuracy = {:.3f}\".format(train_accuracy))\n",
    "    test_accuracy = evaluate(X_test, y_test)\n",
    "    print(\"Test Accuracy = {:.3f}\".format(test_accuracy))"
   ]
  },
  {
   "cell_type": "markdown",
   "metadata": {},
   "source": [
    "---\n",
    "\n",
    "## Step 3: Test a Model on New Images\n",
    "\n",
    "To give yourself more insight into how your model is working, download at least five pictures of German traffic signs from the web and use your model to predict the traffic sign type.\n",
    "\n",
    "You may find `signnames.csv` useful as it contains mappings from the class id (integer) to the actual sign name."
   ]
  },
  {
   "cell_type": "markdown",
   "metadata": {},
   "source": [
    "### Load and Output the Images"
   ]
  },
  {
   "cell_type": "code",
   "execution_count": null,
   "metadata": {},
   "outputs": [],
   "source": [
    "### Load the images and plot them here\n",
    "import cv2\n",
    "testset = './traffic_signs_test'\n",
    "ls = os.listdir(testset)\n",
    "fig, axs = plt.subplots(1,len(ls), figsize=(35, 35))\n",
    "for i in range(len(ls)):\n",
    "    im = cv2.imread(testset + '/' + ls[i])\n",
    "    label = int(os.path.splitext(ls[i])[0])\n",
    "    plt.subplot(1, len(ls), i+1)\n",
    "    plt.imshow(cv2.cvtColor(im, cv2.COLOR_BGR2RGB))\n",
    "    plt.title(df.loc[label].SignName)\n",
    "    plt.axis('off')"
   ]
  },
  {
   "cell_type": "code",
   "execution_count": null,
   "metadata": {},
   "outputs": [],
   "source": [
    "# Define a function which returns two lists: X and y; \n",
    "# each element in X is a traffice sign image array (32, 32, 3) and \n",
    "# the corresponding element in y is the label of the traffice sign.\n",
    "def make_testset(path):\n",
    "    # A directory is given by path.  \n",
    "    # The name of a traffic sign image in the directory\n",
    "    # is given by 'xx.jpg', where xx is the value of its label in y.\n",
    "    # For instance,  the image '11.jpg' has a value of label 11 in y.\n",
    "    X_mytest, y_mytest = [], []\n",
    "    for img in os.listdir(path):\n",
    "        X_mytest.append(cv2.imread(path + '/' + img))\n",
    "        y_mytest.append(int(os.path.splitext(img)[0]))\n",
    "    \n",
    "    return X_mytest, y_mytest\n",
    "    \n",
    "X_mytest, y_mytest = make_testset(testset)\n",
    "X_test_new = normalization(np.array(X_mytest))\n",
    "y_test_new = np.array(y_mytest, dtype=np.int32)\n",
    "print(X_test_new.shape)"
   ]
  },
  {
   "cell_type": "markdown",
   "metadata": {},
   "source": [
    "### Predict the Sign Type for Each Image"
   ]
  },
  {
   "cell_type": "code",
   "execution_count": null,
   "metadata": {
    "scrolled": true
   },
   "outputs": [],
   "source": [
    "with tf.Session() as sess:\n",
    "    saver.restore(sess, tf.train.latest_checkpoint('./tmp'))\n",
    "    preds = sess.run(tf.argmax(logits, axis=1), feed_dict={x: X_test_new, keep_prob: 1.0})\n",
    "    print('Predicted traffic signs          ------->            True traffic signs')\n",
    "    print('========================================================================')\n",
    "    for p, y in zip(preds, y_test_new):\n",
    "        print('{0:1s}   ---->   {1:2s} '.format(df.loc[p].SignName, df.loc[y].SignName)) "
   ]
  },
  {
   "cell_type": "markdown",
   "metadata": {},
   "source": [
    "### Analyze Performance"
   ]
  },
  {
   "cell_type": "code",
   "execution_count": null,
   "metadata": {},
   "outputs": [],
   "source": [
    "new_test_accuracy = np.mean(preds == y_test_new)\n",
    "\n",
    "print(\"Test Accuracy on {:d} New Images = {:.3f}\".format(len(y_test_new), new_test_accuracy))"
   ]
  },
  {
   "cell_type": "markdown",
   "metadata": {},
   "source": [
    "### Output Top 5 Softmax Probabilities For Each Image Found on the Web"
   ]
  },
  {
   "cell_type": "markdown",
   "metadata": {},
   "source": [
    "For each of the new images, print out the model's softmax probabilities to show the **certainty** of the model's predictions (limit the output to the top 5 probabilities for each image). [`tf.nn.top_k`](https://www.tensorflow.org/versions/r0.12/api_docs/python/nn.html#top_k) could prove helpful here. \n",
    "\n",
    "The example below demonstrates how tf.nn.top_k can be used to find the top k predictions for each image.\n",
    "\n",
    "`tf.nn.top_k` will return the values and indices (class ids) of the top k predictions. So if k=3, for each sign, it'll return the 3 largest probabilities (out of a possible 43) and the correspoding class ids.\n",
    "\n",
    "Take this numpy array as an example. The values in the array represent predictions. The array contains softmax probabilities for five candidate images with six possible classes. `tf.nn.top_k` is used to choose the three classes with the highest probability:\n",
    "\n",
    "```\n",
    "# (5, 6) array\n",
    "a = np.array([[ 0.24879643,  0.07032244,  0.12641572,  0.34763842,  0.07893497,\n",
    "         0.12789202],\n",
    "       [ 0.28086119,  0.27569815,  0.08594638,  0.0178669 ,  0.18063401,\n",
    "         0.15899337],\n",
    "       [ 0.26076848,  0.23664738,  0.08020603,  0.07001922,  0.1134371 ,\n",
    "         0.23892179],\n",
    "       [ 0.11943333,  0.29198961,  0.02605103,  0.26234032,  0.1351348 ,\n",
    "         0.16505091],\n",
    "       [ 0.09561176,  0.34396535,  0.0643941 ,  0.16240774,  0.24206137,\n",
    "         0.09155967]])\n",
    "```\n",
    "\n",
    "Running it through `sess.run(tf.nn.top_k(tf.constant(a), k=3))` produces:\n",
    "\n",
    "```\n",
    "TopKV2(values=array([[ 0.34763842,  0.24879643,  0.12789202],\n",
    "       [ 0.28086119,  0.27569815,  0.18063401],\n",
    "       [ 0.26076848,  0.23892179,  0.23664738],\n",
    "       [ 0.29198961,  0.26234032,  0.16505091],\n",
    "       [ 0.34396535,  0.24206137,  0.16240774]]), indices=array([[3, 0, 5],\n",
    "       [0, 1, 4],\n",
    "       [0, 5, 1],\n",
    "       [1, 3, 5],\n",
    "       [1, 4, 3]], dtype=int32))\n",
    "```\n",
    "\n",
    "Looking just at the first row we get `[ 0.34763842,  0.24879643,  0.12789202]`, you can confirm these are the 3 largest probabilities in `a`. You'll also notice `[3, 0, 5]` are the corresponding indices."
   ]
  },
  {
   "cell_type": "code",
   "execution_count": null,
   "metadata": {},
   "outputs": [],
   "source": [
    "### Print out the top five softmax probabilities for the predictions on the German traffic sign images found on the web. \n",
    "with tf.Session() as sess:\n",
    "    saver.restore(sess, tf.train.latest_checkpoint('./tmp'))\n",
    "    values, indices = sess.run(tf.nn.top_k(tf.nn.softmax(logits), 5), feed_dict={x: X_test_new, keep_prob: 1.0})"
   ]
  },
  {
   "cell_type": "code",
   "execution_count": null,
   "metadata": {},
   "outputs": [],
   "source": [
    "print('Top 5 softmax probabilities (i.e., rows):\\n')\n",
    "print(values)\n",
    "print('\\nTop 5 traffic signs labels (i.e., rows):\\n')\n",
    "print(indices)"
   ]
  },
  {
   "cell_type": "code",
   "execution_count": null,
   "metadata": {},
   "outputs": [],
   "source": [
    "num_rows = len(X_test_new)\n",
    "\n",
    "fig, axes = plt.subplots(num_rows, 2, figsize=(15, 24), gridspec_kw = {'width_ratios':[2, 1]})\n",
    "fig.subplots_adjust(hspace=0.3)\n",
    "for i in range(num_rows):\n",
    "    im, label = X_mytest[i], y_mytest[i] \n",
    "   \n",
    "    axes[i, 0].imshow(cv2.cvtColor(im, cv2.COLOR_BGR2RGB))\n",
    "    axes[i, 0].set_title(df.loc[label].SignName)\n",
    "    axes[i, 0].axis('off')\n",
    "    \n",
    "    \n",
    "    names = [df.loc[j].SignName for j in indices[i]]\n",
    "    y_pos = np.arange(len(names))\n",
    "    axes[i, 1].barh(y_pos, values[i], alpha=0.8)\n",
    "    axes[i, 1].set_yticks(y_pos)\n",
    "    axes[i, 1].set_yticklabels(names)\n",
    "    axes[i, 1].set_title('Top 5 softmax probabilities')"
   ]
  }
 ],
 "metadata": {
  "anaconda-cloud": {},
  "kernelspec": {
   "display_name": "Python 3",
   "language": "python",
   "name": "python3"
  },
  "language_info": {
   "codemirror_mode": {
    "name": "ipython",
    "version": 3
   },
   "file_extension": ".py",
   "mimetype": "text/x-python",
   "name": "python",
   "nbconvert_exporter": "python",
   "pygments_lexer": "ipython3",
   "version": "3.5.2"
  }
 },
 "nbformat": 4,
 "nbformat_minor": 1
}
